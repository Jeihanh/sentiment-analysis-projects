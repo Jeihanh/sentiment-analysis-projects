{
  "nbformat": 4,
  "nbformat_minor": 0,
  "metadata": {
    "colab": {
      "provenance": []
    },
    "kernelspec": {
      "name": "python3",
      "display_name": "Python 3"
    },
    "language_info": {
      "name": "python"
    }
  },
  "cells": [
    {
      "cell_type": "markdown",
      "source": [
        "# Machine Learning: Naive Bayes"
      ],
      "metadata": {
        "id": "ppWoOn5ZafBg"
      }
    },
    {
      "cell_type": "code",
      "source": [
        "import numpy as np # Import NumPy library to include multi-dimensional arrays and matrices\n",
        "import pandas as pd # Import Pandas library to allow for data manipulation and analysis\n",
        "\n",
        "# Library to split arrays or matrices into random train and test subsets.\n",
        "from sklearn.model_selection import train_test_split\n",
        "# The CountVectorizer is used to compute the number of words in a given sample\n",
        "from sklearn.feature_extraction.text import CountVectorizer\n",
        "# sklearn.naive bayes is used to import the MultinomialNB library\n",
        "from sklearn.naive_bayes import MultinomialNB\n",
        "# The classification report, confusion matrix, accuracy score are imported from sklearn.metrics to print performance\n",
        "from sklearn.metrics import classification_report, confusion_matrix, accuracy_score\n",
        "\n",
        "# Filename of dataset\n",
        "fname = '/content/dataset_elec_4000.csv'\n",
        "# The Pandas read csv() function imports a CSV file to DataFrame format\n",
        "dataset = pd.read_csv(fname, delimiter = ',')\n",
        "# Dataset will then be represented as a structure that contains two-dimensional data\n",
        "dataset = pd.DataFrame(dataset)\n",
        "# Print dataset and a new line\n",
        "print(dataset)\n",
        "print('\\n')\n",
        "\n",
        "# The review entries of the dataset is denoted by “X”, and the rating is denoted by “y”\n",
        "X = dataset.review\n",
        "y = dataset.rating\n",
        "\n",
        "# The data for X and y, will be split into the training and testing data\n",
        "# The training data will be used to extract features and to train to fit the model\n",
        "# The test size will be 0.25 or 25% and the random state can be set to any number, in this case 123\n",
        "X_train, X_test, y_train, y_test = train_test_split(\n",
        "    X, y, test_size=0.25, random_state=123)\n",
        "\n",
        "# The count vectorizer is used to compute the number of words in a given sample\n",
        "vec = CountVectorizer()\n",
        "# The fit transform is used by the training set to do both calculation and transformation\n",
        "X_train = vec.fit_transform(X_train)\n",
        "# Transforms test data\n",
        "X_test = vec.transform(X_test)\n",
        "\n",
        "# Naive Bayes Classifier is being utilized\n",
        "nbc = MultinomialNB()\n",
        "# Classifier fits to training data\n",
        "nbc.fit(X_train, y_train)\n",
        "\n",
        "# The prediction array is forecasted using the testing data after train data finished ttraining\n",
        "prediction = nbc.predict(X_test)\n",
        "accuracy = nbc.score(X_test, y_test)\n",
        "\n",
        "# Print algorithm name; classification report, which include precision, recall, and f1-score; and the accuracy score of the algorithm\n",
        "print('Algorithm Name: Naive Bayes \\n')\n",
        "print(confusion_matrix(y_test, prediction))\n",
        "print(classification_report(y_test, prediction))\n",
        "print('Accuracy Score: ', accuracy_score(y_test, prediction) * 100, '%', sep='')"
      ],
      "metadata": {
        "colab": {
          "base_uri": "https://localhost:8080/"
        },
        "id": "ytolrqlhaw2F",
        "outputId": "a1118a07-2d12-43d8-f0c7-582fdac4b6b2"
      },
      "execution_count": null,
      "outputs": [
        {
          "output_type": "stream",
          "name": "stdout",
          "text": [
            "                                                 review  rating\n",
            "0     This case is just beautiful. I can't think of ...     1.0\n",
            "1     My husband purchased these because he likes mo...     1.0\n",
            "2     Very disappointed.  This item worked a time or...     0.0\n",
            "3     ...first of all, this Lightning cable does exa...     1.0\n",
            "4     Very bad, slow, flakey software. Very slow. I ...     0.0\n",
            "...                                                 ...     ...\n",
            "3995  I had this thing connected to my radio for qui...     0.0\n",
            "3996  This unique internet radio was easy to set up,...     1.0\n",
            "3997  we're pretty confident this is a bootlegged de...     0.0\n",
            "3998  Wish I could say that this keyboard works for ...     0.0\n",
            "3999  The unit simply will not allow us to install i...     0.0\n",
            "\n",
            "[4000 rows x 2 columns]\n",
            "\n",
            "\n",
            "Algorithm Name: Naive Bayes \n",
            "\n",
            "[[447  63]\n",
            " [ 70 420]]\n",
            "              precision    recall  f1-score   support\n",
            "\n",
            "         0.0       0.86      0.88      0.87       510\n",
            "         1.0       0.87      0.86      0.86       490\n",
            "\n",
            "    accuracy                           0.87      1000\n",
            "   macro avg       0.87      0.87      0.87      1000\n",
            "weighted avg       0.87      0.87      0.87      1000\n",
            "\n",
            "Accuracy Score: 86.7%\n"
          ]
        }
      ]
    },
    {
      "cell_type": "code",
      "source": [
        "import numpy as np\n",
        "import pandas as pd"
      ],
      "metadata": {
        "id": "uW0nF0w_ghWo"
      },
      "execution_count": null,
      "outputs": []
    },
    {
      "cell_type": "code",
      "source": [
        "fname = '/content/dataset_elec_4000.csv'\n",
        "dataset = pd.read_csv(fname, delimiter = ',')\n",
        "dataset = pd.DataFrame(dataset)\n",
        "print(dataset)"
      ],
      "metadata": {
        "colab": {
          "base_uri": "https://localhost:8080/"
        },
        "id": "oVeHQuqhhjwg",
        "outputId": "39ff439c-6454-4282-d0f9-6bcac3201761"
      },
      "execution_count": null,
      "outputs": [
        {
          "output_type": "stream",
          "name": "stdout",
          "text": [
            "                                                 review  rating\n",
            "0     This case is just beautiful. I can't think of ...     1.0\n",
            "1     My husband purchased these because he likes mo...     1.0\n",
            "2     Very disappointed.  This item worked a time or...     0.0\n",
            "3     ...first of all, this Lightning cable does exa...     1.0\n",
            "4     Very bad, slow, flakey software. Very slow. I ...     0.0\n",
            "...                                                 ...     ...\n",
            "3995  I had this thing connected to my radio for qui...     0.0\n",
            "3996  This unique internet radio was easy to set up,...     1.0\n",
            "3997  we're pretty confident this is a bootlegged de...     0.0\n",
            "3998  Wish I could say that this keyboard works for ...     0.0\n",
            "3999  The unit simply will not allow us to install i...     0.0\n",
            "\n",
            "[4000 rows x 2 columns]\n"
          ]
        }
      ]
    },
    {
      "cell_type": "code",
      "source": [
        "X = dataset.review\n",
        "y = dataset.rating"
      ],
      "metadata": {
        "id": "gjME7Qmxhmrd"
      },
      "execution_count": null,
      "outputs": []
    },
    {
      "cell_type": "code",
      "source": [
        "from sklearn.model_selection import train_test_split\n",
        "X_train, X_test, y_train, y_test = train_test_split(X, y, test_size=0.25,random_state=123)"
      ],
      "metadata": {
        "id": "EfuZAFshkImR"
      },
      "execution_count": null,
      "outputs": []
    },
    {
      "cell_type": "code",
      "source": [
        "from sklearn.feature_extraction.text import CountVectorizer\n",
        "vectorizer = CountVectorizer()\n",
        "X_train = vectorizer.fit_transform(X_train)\n",
        "X_test = vectorizer.transform(X_test)"
      ],
      "metadata": {
        "id": "3eMmMog0kXmu"
      },
      "execution_count": null,
      "outputs": []
    },
    {
      "cell_type": "code",
      "source": [
        "from sklearn.naive_bayes import MultinomialNB\n",
        "prediction = nbc.predict(X_test)\n",
        "accuracy = nbc.score(X_test, y_test)"
      ],
      "metadata": {
        "id": "kx6jZB8Gkbn_"
      },
      "execution_count": null,
      "outputs": []
    },
    {
      "cell_type": "code",
      "source": [
        "from sklearn.metrics import classification_report, confusion_matrix, accuracy_score\n",
        "print('Algorithm Name: Naive Bayes \\n')\n",
        "print(confusion_matrix(y_test, prediction))\n",
        "print(classification_report(y_test, prediction))\n",
        "print('Accuracy Score: ', accuracy_score(y_test, prediction) * 100, '%', sep='')"
      ],
      "metadata": {
        "colab": {
          "base_uri": "https://localhost:8080/"
        },
        "id": "De_IsIFRkiNY",
        "outputId": "9fc274b4-9a8f-4b27-a150-b75bb47915d4"
      },
      "execution_count": null,
      "outputs": [
        {
          "output_type": "stream",
          "name": "stdout",
          "text": [
            "Algorithm Name: Naive Bayes \n",
            "\n",
            "[[441  68]\n",
            " [ 78 413]]\n",
            "              precision    recall  f1-score   support\n",
            "\n",
            "         0.0       0.85      0.87      0.86       509\n",
            "         1.0       0.86      0.84      0.85       491\n",
            "\n",
            "    accuracy                           0.85      1000\n",
            "   macro avg       0.85      0.85      0.85      1000\n",
            "weighted avg       0.85      0.85      0.85      1000\n",
            "\n",
            "Accuracy Score: 85.39999999999999%\n"
          ]
        }
      ]
    }
  ]
}