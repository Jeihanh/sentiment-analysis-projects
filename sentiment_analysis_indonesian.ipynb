{
  "cells": [
    {
      "cell_type": "code",
      "execution_count": null,
      "metadata": {
        "colab": {
          "base_uri": "https://localhost:8080/",
          "height": 363
        },
        "id": "UJQwRbP8F5Bp",
        "outputId": "ae0f4f6a-8834-438f-f914-745e16d41433"
      },
      "outputs": [
        {
          "data": {
            "text/html": [
              "\n",
              "  <div id=\"df-d88564e1-4a93-4ac6-b6bf-af517bdbc6fb\">\n",
              "    <div class=\"colab-df-container\">\n",
              "      <div>\n",
              "<style scoped>\n",
              "    .dataframe tbody tr th:only-of-type {\n",
              "        vertical-align: middle;\n",
              "    }\n",
              "\n",
              "    .dataframe tbody tr th {\n",
              "        vertical-align: top;\n",
              "    }\n",
              "\n",
              "    .dataframe thead th {\n",
              "        text-align: right;\n",
              "    }\n",
              "</style>\n",
              "<table border=\"1\" class=\"dataframe\">\n",
              "  <thead>\n",
              "    <tr style=\"text-align: right;\">\n",
              "      <th></th>\n",
              "      <th>review</th>\n",
              "      <th>rating</th>\n",
              "    </tr>\n",
              "  </thead>\n",
              "  <tbody>\n",
              "    <tr>\n",
              "      <th>0</th>\n",
              "      <td>Selamat Ultah utk Boss saya [USERNAME]. Wartaw...</td>\n",
              "      <td>1</td>\n",
              "    </tr>\n",
              "    <tr>\n",
              "      <th>1</th>\n",
              "      <td>Aku dulu nemu ig nya dia. Pas dia lg liat came...</td>\n",
              "      <td>0</td>\n",
              "    </tr>\n",
              "    <tr>\n",
              "      <th>2</th>\n",
              "      <td>Buka puasa makan mujigae porsi berat alias seg...</td>\n",
              "      <td>1</td>\n",
              "    </tr>\n",
              "    <tr>\n",
              "      <th>3</th>\n",
              "      <td>Pacar yg baik adalah pacar yg nasehatin kamu g...</td>\n",
              "      <td>1</td>\n",
              "    </tr>\n",
              "    <tr>\n",
              "      <th>4</th>\n",
              "      <td>Min [USERNAME] [USERNAME] mau nanya dong di jl...</td>\n",
              "      <td>1</td>\n",
              "    </tr>\n",
              "    <tr>\n",
              "      <th>5</th>\n",
              "      <td>Nah itu yg sy gak ngerti. Tp sy bayangkan mung...</td>\n",
              "      <td>0</td>\n",
              "    </tr>\n",
              "    <tr>\n",
              "      <th>6</th>\n",
              "      <td>Anjir. Ini anak macam apa? Eike aja ngidam aya...</td>\n",
              "      <td>0</td>\n",
              "    </tr>\n",
              "    <tr>\n",
              "      <th>7</th>\n",
              "      <td>diluar sana nona-nona lagi sibuk menyeleksi ca...</td>\n",
              "      <td>0</td>\n",
              "    </tr>\n",
              "    <tr>\n",
              "      <th>8</th>\n",
              "      <td>liat vlive kemaren2 do megang hp jae terus har...</td>\n",
              "      <td>1</td>\n",
              "    </tr>\n",
              "    <tr>\n",
              "      <th>9</th>\n",
              "      <td>Kalo kamuuuuuu, kamuu itu specialll. Cintanya ...</td>\n",
              "      <td>1</td>\n",
              "    </tr>\n",
              "  </tbody>\n",
              "</table>\n",
              "</div>\n",
              "      <button class=\"colab-df-convert\" onclick=\"convertToInteractive('df-d88564e1-4a93-4ac6-b6bf-af517bdbc6fb')\"\n",
              "              title=\"Convert this dataframe to an interactive table.\"\n",
              "              style=\"display:none;\">\n",
              "        \n",
              "  <svg xmlns=\"http://www.w3.org/2000/svg\" height=\"24px\"viewBox=\"0 0 24 24\"\n",
              "       width=\"24px\">\n",
              "    <path d=\"M0 0h24v24H0V0z\" fill=\"none\"/>\n",
              "    <path d=\"M18.56 5.44l.94 2.06.94-2.06 2.06-.94-2.06-.94-.94-2.06-.94 2.06-2.06.94zm-11 1L8.5 8.5l.94-2.06 2.06-.94-2.06-.94L8.5 2.5l-.94 2.06-2.06.94zm10 10l.94 2.06.94-2.06 2.06-.94-2.06-.94-.94-2.06-.94 2.06-2.06.94z\"/><path d=\"M17.41 7.96l-1.37-1.37c-.4-.4-.92-.59-1.43-.59-.52 0-1.04.2-1.43.59L10.3 9.45l-7.72 7.72c-.78.78-.78 2.05 0 2.83L4 21.41c.39.39.9.59 1.41.59.51 0 1.02-.2 1.41-.59l7.78-7.78 2.81-2.81c.8-.78.8-2.07 0-2.86zM5.41 20L4 18.59l7.72-7.72 1.47 1.35L5.41 20z\"/>\n",
              "  </svg>\n",
              "      </button>\n",
              "      \n",
              "  <style>\n",
              "    .colab-df-container {\n",
              "      display:flex;\n",
              "      flex-wrap:wrap;\n",
              "      gap: 12px;\n",
              "    }\n",
              "\n",
              "    .colab-df-convert {\n",
              "      background-color: #E8F0FE;\n",
              "      border: none;\n",
              "      border-radius: 50%;\n",
              "      cursor: pointer;\n",
              "      display: none;\n",
              "      fill: #1967D2;\n",
              "      height: 32px;\n",
              "      padding: 0 0 0 0;\n",
              "      width: 32px;\n",
              "    }\n",
              "\n",
              "    .colab-df-convert:hover {\n",
              "      background-color: #E2EBFA;\n",
              "      box-shadow: 0px 1px 2px rgba(60, 64, 67, 0.3), 0px 1px 3px 1px rgba(60, 64, 67, 0.15);\n",
              "      fill: #174EA6;\n",
              "    }\n",
              "\n",
              "    [theme=dark] .colab-df-convert {\n",
              "      background-color: #3B4455;\n",
              "      fill: #D2E3FC;\n",
              "    }\n",
              "\n",
              "    [theme=dark] .colab-df-convert:hover {\n",
              "      background-color: #434B5C;\n",
              "      box-shadow: 0px 1px 3px 1px rgba(0, 0, 0, 0.15);\n",
              "      filter: drop-shadow(0px 1px 2px rgba(0, 0, 0, 0.3));\n",
              "      fill: #FFFFFF;\n",
              "    }\n",
              "  </style>\n",
              "\n",
              "      <script>\n",
              "        const buttonEl =\n",
              "          document.querySelector('#df-d88564e1-4a93-4ac6-b6bf-af517bdbc6fb button.colab-df-convert');\n",
              "        buttonEl.style.display =\n",
              "          google.colab.kernel.accessAllowed ? 'block' : 'none';\n",
              "\n",
              "        async function convertToInteractive(key) {\n",
              "          const element = document.querySelector('#df-d88564e1-4a93-4ac6-b6bf-af517bdbc6fb');\n",
              "          const dataTable =\n",
              "            await google.colab.kernel.invokeFunction('convertToInteractive',\n",
              "                                                     [key], {});\n",
              "          if (!dataTable) return;\n",
              "\n",
              "          const docLinkHtml = 'Like what you see? Visit the ' +\n",
              "            '<a target=\"_blank\" href=https://colab.research.google.com/notebooks/data_table.ipynb>data table notebook</a>'\n",
              "            + ' to learn more about interactive tables.';\n",
              "          element.innerHTML = '';\n",
              "          dataTable['output_type'] = 'display_data';\n",
              "          await google.colab.output.renderOutput(dataTable, element);\n",
              "          const docLink = document.createElement('div');\n",
              "          docLink.innerHTML = docLinkHtml;\n",
              "          element.appendChild(docLink);\n",
              "        }\n",
              "      </script>\n",
              "    </div>\n",
              "  </div>\n",
              "  "
            ],
            "text/plain": [
              "                                              review  rating\n",
              "0  Selamat Ultah utk Boss saya [USERNAME]. Wartaw...       1\n",
              "1  Aku dulu nemu ig nya dia. Pas dia lg liat came...       0\n",
              "2  Buka puasa makan mujigae porsi berat alias seg...       1\n",
              "3  Pacar yg baik adalah pacar yg nasehatin kamu g...       1\n",
              "4  Min [USERNAME] [USERNAME] mau nanya dong di jl...       1\n",
              "5  Nah itu yg sy gak ngerti. Tp sy bayangkan mung...       0\n",
              "6  Anjir. Ini anak macam apa? Eike aja ngidam aya...       0\n",
              "7  diluar sana nona-nona lagi sibuk menyeleksi ca...       0\n",
              "8  liat vlive kemaren2 do megang hp jae terus har...       1\n",
              "9  Kalo kamuuuuuu, kamuu itu specialll. Cintanya ...       1"
            ]
          },
          "execution_count": 2,
          "metadata": {},
          "output_type": "execute_result"
        }
      ],
      "source": [
        "import pandas as pd\n",
        "\n",
        "data = pd.read_csv('/content/test.csv')\n",
        "data.head(10)"
      ]
    },
    {
      "cell_type": "code",
      "execution_count": null,
      "metadata": {
        "colab": {
          "base_uri": "https://localhost:8080/"
        },
        "id": "IFSz9VUgGUWz",
        "outputId": "90172858-88dd-47be-82b7-3eee95d13b8a"
      },
      "outputs": [
        {
          "data": {
            "text/plain": [
              "0       selamat ultah utk boss saya username wartawan ...\n",
              "1       aku dulu nemu ig nya dia pas dia lg liat camer...\n",
              "2       buka puasa makan mujigae porsi berat alias seg...\n",
              "3       pacar yg baik adalah pacar yg nasehatin kamu g...\n",
              "4       min username username mau nanya dong di jl awa...\n",
              "                              ...                        \n",
              "1311    kok gak tertarik pdhal enak loh gajinya besar ...\n",
              "1312    duh sakit sekali karena saya org yg jujur saya...\n",
              "1313    yakin aja setiap datang pasti akan pergi dan b...\n",
              "1314    apapun yang terjadi kita hadapi demi terwujud ...\n",
              "1315    mau jalan kaki diluar kosan tapi takut kena ja...\n",
              "Name: casefold, Length: 1316, dtype: object"
            ]
          },
          "execution_count": 3,
          "metadata": {},
          "output_type": "execute_result"
        }
      ],
      "source": [
        "import string\n",
        "import re\n",
        "\n",
        "data['review'] = data['review'].str.lower()\n",
        "\n",
        "def casef(text):\n",
        "    text = text.replace('\\\\t',\" \").replace('\\\\n',\" \").replace('\\\\u',\" \").replace('\\\\',\"\")\n",
        "    text = text.encode('ascii', 'replace').decode('ascii')\n",
        "    text = ' '.join(re.sub(\"([@#][A-Za-z0-9]+)|(\\w+:\\/\\/\\S+)\",\" \", text).split())\n",
        "    text= text.replace(\"http://\", \" \").replace(\"https://\", \" \")\n",
        "    text = re.sub(r\"\\d+\", \"\", text)\n",
        "    text = text.translate(str.maketrans(\"\",\"\",string.punctuation))\n",
        "    text = text.strip()\n",
        "    text = re.sub('\\s+',' ',text)\n",
        "    return text\n",
        "\n",
        "data['casefold'] = data['review'].apply(casef)\n",
        "hasil_casefolding= data['casefold']\n",
        "hasil_casefolding"
      ]
    },
    {
      "cell_type": "code",
      "execution_count": null,
      "metadata": {
        "colab": {
          "base_uri": "https://localhost:8080/"
        },
        "id": "KZ2Pqv6EGdz4",
        "outputId": "1f04623b-3642-4e61-e9f2-92c09a4006ed"
      },
      "outputs": [
        {
          "name": "stderr",
          "output_type": "stream",
          "text": [
            "[nltk_data] Downloading package punkt to /root/nltk_data...\n",
            "[nltk_data]   Unzipping tokenizers/punkt.zip.\n"
          ]
        },
        {
          "name": "stdout",
          "output_type": "stream",
          "text": [
            "Tokenizing Result : \n",
            "\n",
            "0    [selamat, ultah, utk, boss, saya, username, wa...\n",
            "1    [aku, dulu, nemu, ig, nya, dia, pas, dia, lg, ...\n",
            "2    [buka, puasa, makan, mujigae, porsi, berat, al...\n",
            "3    [pacar, yg, baik, adalah, pacar, yg, nasehatin...\n",
            "4    [min, username, username, mau, nanya, dong, di...\n",
            "Name: comment_tokens, dtype: object\n"
          ]
        }
      ],
      "source": [
        "# ------ Tokenizing ---------\n",
        "import nltk\n",
        "nltk.download('punkt')\n",
        "from nltk.tokenize import word_tokenize\n",
        "\n",
        "def word_tokenize_wrapper(text):\n",
        "  return word_tokenize(text)\n",
        "\n",
        "data['comment_tokens'] = data['casefold'].apply(word_tokenize_wrapper)\n",
        "\n",
        "print('Tokenizing Result : \\n')\n",
        "print(data['comment_tokens'].head())"
      ]
    },
    {
      "cell_type": "code",
      "execution_count": null,
      "metadata": {
        "colab": {
          "base_uri": "https://localhost:8080/"
        },
        "id": "l7gdWymXG31J",
        "outputId": "84206283-f33a-4fbc-f402-85ce7f8ca346"
      },
      "outputs": [
        {
          "data": {
            "text/plain": [
              "1306    [yakin, saja, setiap, datang, pasti, akan, per...\n",
              "1307    [apapun, yang, terjadi, kita, hadapi, demi, te...\n",
              "1308    [mau, jalan, kaki, diluar, kosan, tapi, takut,...\n",
              "1309    [username, nkri, gundulmu, wong, pendiri, bang...\n",
              "1310    [bukber, pertama, dengan, orang, tersayang, us...\n",
              "1311    [kok, tidak, tertarik, pdhal, enak, loh, gajin...\n",
              "1312    [aduh, sakit, sekali, karena, saya, orang, yan...\n",
              "1313    [yakin, saja, setiap, datang, pasti, akan, per...\n",
              "1314    [apapun, yang, terjadi, kita, hadapi, demi, te...\n",
              "1315    [mau, jalan, kaki, diluar, kosan, tapi, takut,...\n",
              "Name: comment_revision, dtype: object"
            ]
          },
          "execution_count": 5,
          "metadata": {},
          "output_type": "execute_result"
        }
      ],
      "source": [
        "#-- FIXING INFORMAL WORDS --\n",
        "\n",
        "normalized_word = pd.read_excel(\"/content/dictionary.xlsx\")\n",
        "\n",
        "normalized_word_dict = {}\n",
        "\n",
        "for index, row in normalized_word.iterrows():\n",
        "    if row[0] not in normalized_word_dict:\n",
        "        normalized_word_dict[row[0]] = row[1]\n",
        "\n",
        "def normalized_term(document):\n",
        "    return [normalized_word_dict[term] if term in normalized_word_dict else term for term in document]\n",
        "\n",
        "data['comment_revision'] = data['comment_tokens'].apply(normalized_term)\n",
        "\n",
        "data['comment_revision'].tail(10)"
      ]
    },
    {
      "cell_type": "code",
      "execution_count": null,
      "metadata": {
        "colab": {
          "base_uri": "https://localhost:8080/"
        },
        "id": "C3l6etZHHWe0",
        "outputId": "07330132-1bb6-4ada-8cf6-64ec8cc24a22"
      },
      "outputs": [
        {
          "name": "stdout",
          "output_type": "stream",
          "text": [
            "0    [selamat, ultah, boss, username, wartawan, heb...\n",
            "1    [dulu, menemukan, ig, cocok, lg, lihat, camera...\n",
            "2    [buka, puasa, makan, mujigae, porsi, berat, al...\n",
            "3    [pacar, baik, pacar, nasehatin, tidak, pernah,...\n",
            "4    [min, username, username, mau, nanya, dong, jl...\n",
            "Name: comment_filtered, dtype: object\n"
          ]
        }
      ],
      "source": [
        "#-- STOPWORDS REMOVAL --\n",
        "list_stopwords = {\"adalah\",\"akan\",\"akhir\",\"aku\",\"saya\",\"antara\",\"antaranya\",\"apabila\",\"atau\",\"bahwa\",\"bahwasannya\",\"berikut\",\"berkata\",\"berupa\",\"dan\",\"dalam\",\"dapat\",\"dari\",\"demikian\",\"dengan\",\"di\",\"dia\",\"beliau\",\"mas\",\"pak\",\"diri\",\"dirinya\",\"guna\",\"hal\",\"hingga\",\"ia\",\"ialah\",\"ibarat\",\"ibaratnya\",\"ibu\",\"ingin\",\"inginkan\",\"ini\",\"itu\",\"jadi\",\"kami\",\"kalian\",\"kamu\",\"kan\",\"karena\",\"kini\",\"lalu\",\"kita\",\"maka\",\"mereka\",\"merupakan\",\"misal\",\"misalkan\",\"misalnya\",\"pertama\",\"orang\",\"pada\",\"nya\",\"saat\",\"sendiri\",\"sini\",\"yaitu\",\"yang\",\"kalau\",\"jika\",\"untuk\",\"secara\",\"sedangkan\",\"luar\",\"alangkah\",\"wkkk\",\n",
        "                  \"wkwkw\",\"wkwkwkw\",\"wk\",\"wkkw\"}\n",
        "\n",
        "list_stopwords = set(list_stopwords)\n",
        "\n",
        "def stopwords_removal(words):\n",
        "    return [word for word in words if word not in list_stopwords]\n",
        "\n",
        "data['comment_filtered'] = data['comment_revision'].apply(stopwords_removal)\n",
        "\n",
        "print(data['comment_filtered'].head())"
      ]
    },
    {
      "cell_type": "code",
      "execution_count": null,
      "metadata": {
        "colab": {
          "base_uri": "https://localhost:8080/"
        },
        "id": "zih4zKQBHf6U",
        "outputId": "846cad30-fb3f-445c-e60b-f2dda109f83d"
      },
      "outputs": [
        {
          "name": "stdout",
          "output_type": "stream",
          "text": [
            "Looking in indexes: https://pypi.org/simple, https://us-python.pkg.dev/colab-wheels/public/simple/\n",
            "Collecting Sastrawi\n",
            "  Downloading Sastrawi-1.0.1-py2.py3-none-any.whl (209 kB)\n",
            "\u001b[K     |████████████████████████████████| 209 kB 14.4 MB/s \n",
            "\u001b[?25hInstalling collected packages: Sastrawi\n",
            "Successfully installed Sastrawi-1.0.1\n"
          ]
        }
      ],
      "source": [
        "pip install Sastrawi"
      ]
    },
    {
      "cell_type": "code",
      "execution_count": null,
      "metadata": {
        "colab": {
          "background_save": true
        },
        "id": "jQ-hmP1qHsbo",
        "outputId": "0812cb79-c7cc-4157-9e86-3990535ef019"
      },
      "outputs": [
        {
          "name": "stdout",
          "output_type": "stream",
          "text": [
            "1306    [yakin, saja, tiap, datang, pasti, pergi, begi...\n",
            "1307    [apa, jadi, hadap, demi, wujud, impi, hati, ya...\n",
            "1308    [mau, jalan, kaki, luar, kosan, tapi, takut, k...\n",
            "1309    [username, nkri, gundul, wong, diri, bangsa, j...\n",
            "1310    [bukber, sayang, username, username, username,...\n",
            "1311    [kok, tidak, tarik, pdhal, enak, loh, gaji, be...\n",
            "1312    [aduh, sakit, sekali, jujur, bakal, blg, ada, ...\n",
            "1313    [yakin, saja, tiap, datang, pasti, pergi, begi...\n",
            "1314    [apa, jadi, hadap, demi, wujud, impi, hati, ya...\n",
            "1315    [mau, jalan, kaki, luar, kosan, tapi, takut, k...\n",
            "Name: comment_stemmed, dtype: object\n"
          ]
        }
      ],
      "source": [
        "from Sastrawi.Stemmer.StemmerFactory import StemmerFactory\n",
        "\n",
        "factory = StemmerFactory()\n",
        "stemmer = factory.create_stemmer()\n",
        "\n",
        "def stemmed_wrapper(term):\n",
        "    return stemmer.stem(term)\n",
        "\n",
        "term_dict = {}\n",
        "for document in data['comment_filtered']:\n",
        "    for term in document:\n",
        "        if term not in term_dict:\n",
        "            term_dict[term] = ' '\n",
        "\n",
        "for term in term_dict:\n",
        "    term_dict[term] = stemmed_wrapper(term)\n",
        "\n",
        "def get_stemmed_term(document):\n",
        "    return [term_dict[term] for term in document]\n",
        "\n",
        "data['comment_stemmed'] = data['comment_filtered'].apply(get_stemmed_term)\n",
        "print(data['comment_stemmed'].tail(10))"
      ]
    },
    {
      "cell_type": "code",
      "execution_count": null,
      "metadata": {
        "colab": {
          "base_uri": "https://localhost:8080/"
        },
        "id": "NAWoTUlPfdsp",
        "outputId": "7754934d-f7d2-401a-f522-8bf2d64f361d"
      },
      "outputs": [
        {
          "name": "stdout",
          "output_type": "stream",
          "text": [
            "Looking in indexes: https://pypi.org/simple, https://us-python.pkg.dev/colab-wheels/public/simple/\n",
            "Requirement already satisfied: scikit-learn in /usr/local/lib/python3.7/dist-packages (1.0.2)\n",
            "Requirement already satisfied: threadpoolctl>=2.0.0 in /usr/local/lib/python3.7/dist-packages (from scikit-learn) (3.1.0)\n",
            "Requirement already satisfied: numpy>=1.14.6 in /usr/local/lib/python3.7/dist-packages (from scikit-learn) (1.21.6)\n",
            "Requirement already satisfied: scipy>=1.1.0 in /usr/local/lib/python3.7/dist-packages (from scikit-learn) (1.4.1)\n",
            "Requirement already satisfied: joblib>=0.11 in /usr/local/lib/python3.7/dist-packages (from scikit-learn) (1.1.0)\n"
          ]
        }
      ],
      "source": [
        "#install scikit-learn library\n",
        "!pip install -U scikit-learn"
      ]
    },
    {
      "cell_type": "code",
      "execution_count": null,
      "metadata": {
        "id": "zzsLotH6fiN8"
      },
      "outputs": [],
      "source": [
        "import sklearn\n",
        "from sklearn.feature_extraction.text import TfidfVectorizer"
      ]
    },
    {
      "cell_type": "code",
      "execution_count": null,
      "metadata": {
        "id": "dw3WVEyxfmRo"
      },
      "outputs": [],
      "source": [
        "max_features = 1000\n",
        "newdata = data['comment_stemmed'].astype(str)\n",
        "\n",
        "tfidf = TfidfVectorizer(max_features=max_features, ngram_range=(1,3), smooth_idf=False)\n",
        "tfs = tfidf.fit_transform(newdata)\n",
        "IDF_vector = tfidf.idf_\n",
        "\n",
        "tfidf_mat = tfidf.fit_transform(newdata).toarray()"
      ]
    },
    {
      "cell_type": "code",
      "execution_count": null,
      "metadata": {
        "id": "dCSkZ3hSiYLp"
      },
      "outputs": [],
      "source": [
        "X = tfidf_mat\n",
        "Y = data['rating']"
      ]
    },
    {
      "cell_type": "code",
      "execution_count": null,
      "metadata": {
        "colab": {
          "base_uri": "https://localhost:8080/"
        },
        "id": "rXhiD0tQidxh",
        "outputId": "4ef98312-4cb6-46cd-9d0f-96d76d9e461e"
      },
      "outputs": [
        {
          "data": {
            "text/plain": [
              "array([0.78787879, 0.8030303 , 0.77272727, 0.83333333, 0.8030303 ,\n",
              "       0.85606061, 0.6870229 , 0.72519084, 0.76335878, 0.75572519])"
            ]
          },
          "execution_count": 19,
          "metadata": {},
          "output_type": "execute_result"
        }
      ],
      "source": [
        "from sklearn.naive_bayes import MultinomialNB\n",
        "from sklearn.model_selection import cross_val_score\n",
        "\n",
        "clasfc= MultinomialNB()\n",
        "scores = cross_val_score(clasfc, X, Y, cv=10)\n",
        "scores"
      ]
    },
    {
      "cell_type": "code",
      "execution_count": null,
      "metadata": {
        "colab": {
          "base_uri": "https://localhost:8080/"
        },
        "id": "G-8ntmx_iqWR",
        "outputId": "3591655a-4cca-4b37-dde9-675d92dbc432"
      },
      "outputs": [
        {
          "name": "stdout",
          "output_type": "stream",
          "text": [
            "77.87358315984271 %\n"
          ]
        }
      ],
      "source": [
        "print(scores.mean() * 100, '%')"
      ]
    },
    {
      "cell_type": "code",
      "execution_count": null,
      "metadata": {
        "colab": {
          "base_uri": "https://localhost:8080/"
        },
        "id": "Up9LBkt7jD3s",
        "outputId": "960b64bf-c177-48bb-b69a-11371420c2ee"
      },
      "outputs": [
        {
          "data": {
            "text/plain": [
              "array([[290, 220],\n",
              "       [ 71, 735]])"
            ]
          },
          "execution_count": 25,
          "metadata": {},
          "output_type": "execute_result"
        }
      ],
      "source": [
        "from sklearn.model_selection import cross_val_predict\n",
        "from sklearn.metrics import confusion_matrix\n",
        "\n",
        "Y_pred = cross_val_predict(clasfc, X, Y, cv=10)\n",
        "conf_mat = confusion_matrix(Y, Y_pred)\n",
        "conf_mat"
      ]
    },
    {
      "cell_type": "code",
      "execution_count": null,
      "metadata": {
        "id": "mLV7yXMzjJnw"
      },
      "outputs": [],
      "source": [
        "TP = 735\n",
        "TN = 290\n",
        "FP = 220\n",
        "FN = 71"
      ]
    },
    {
      "cell_type": "code",
      "execution_count": null,
      "metadata": {
        "colab": {
          "base_uri": "https://localhost:8080/"
        },
        "id": "1mDgcm6OjW3r",
        "outputId": "a49b2339-07d3-431a-e677-1b647bc0db6b"
      },
      "outputs": [
        {
          "name": "stdout",
          "output_type": "stream",
          "text": [
            "77.88753799392097 %\n"
          ]
        }
      ],
      "source": [
        "accuracy = (TN+TP)/(TN+TP+FN+FP)\n",
        "print(accuracy * 100, '%')"
      ]
    },
    {
      "cell_type": "code",
      "execution_count": null,
      "metadata": {
        "colab": {
          "base_uri": "https://localhost:8080/"
        },
        "id": "mtRpFYgBjfkT",
        "outputId": "abc064c9-e1ff-471e-b942-ad9d924de1d4"
      },
      "outputs": [
        {
          "name": "stdout",
          "output_type": "stream",
          "text": [
            "76.96335078534031 %\n"
          ]
        }
      ],
      "source": [
        "precision = TP/(TP+FP)\n",
        "print(precision * 100, '%')"
      ]
    },
    {
      "cell_type": "code",
      "execution_count": null,
      "metadata": {
        "colab": {
          "base_uri": "https://localhost:8080/"
        },
        "id": "_KD_60rbjk1n",
        "outputId": "6c82aa16-cd1f-4a5a-9ba0-903139b582c4"
      },
      "outputs": [
        {
          "name": "stdout",
          "output_type": "stream",
          "text": [
            "91.1910669975186 %\n"
          ]
        }
      ],
      "source": [
        "recall = TP/(TP+FN)\n",
        "print(recall * 100, '%')"
      ]
    },
    {
      "cell_type": "code",
      "execution_count": null,
      "metadata": {
        "colab": {
          "base_uri": "https://localhost:8080/"
        },
        "id": "iQVXqZcVjp9l",
        "outputId": "ae780436-76f2-4dd2-a764-eae11ba334ae"
      },
      "outputs": [
        {
          "name": "stdout",
          "output_type": "stream",
          "text": [
            "83.47529812606473 %\n"
          ]
        }
      ],
      "source": [
        "f1meas = (2*precision*recall)/(precision+recall)\n",
        "print(f1meas * 100, '%')"
      ]
    }
  ],
  "metadata": {
    "colab": {
      "provenance": []
    },
    "kernelspec": {
      "display_name": "Python 3",
      "name": "python3"
    },
    "language_info": {
      "name": "python"
    }
  },
  "nbformat": 4,
  "nbformat_minor": 0
}