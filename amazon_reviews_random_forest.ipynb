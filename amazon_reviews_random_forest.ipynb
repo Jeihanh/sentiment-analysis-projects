{
  "nbformat": 4,
  "nbformat_minor": 0,
  "metadata": {
    "colab": {
      "provenance": []
    },
    "kernelspec": {
      "name": "python3",
      "display_name": "Python 3"
    },
    "language_info": {
      "name": "python"
    }
  },
  "cells": [
    {
      "cell_type": "markdown",
      "source": [
        "# Machine Learning: Random Forest Algorithm"
      ],
      "metadata": {
        "id": "AlFXN7otV_ib"
      }
    },
    {
      "cell_type": "code",
      "source": [
        "import numpy as np # Import NumPy library to include multi-dimensional arrays and matrices\n",
        "import pandas as pd # Import Pandas library to allow for data manipulation and analysis\n",
        "\n",
        "# Library to split arrays or matrices into random train and test subsets.\n",
        "from sklearn.model_selection import train_test_split\n",
        "# The CountVectorizer is used to compute the number of words in a given sample\n",
        "from sklearn.feature_extraction.text import CountVectorizer\n",
        "# The RandomForestClassifier library is imported from sklearn.ensemble\n",
        "from sklearn.ensemble import RandomForestClassifier\n",
        "# The classification report, confusion matrix, accuracy score are imported from sklearn.metrics to print performance\n",
        "from sklearn.metrics import classification_report, confusion_matrix, accuracy_score\n",
        "\n",
        "# Filename of dataset\n",
        "fname = '/content/dataset_elec_4000.csv'\n",
        "# The Pandas read csv() function imports a CSV file to DataFrame format\n",
        "dataset = pd.read_csv(fname, delimiter = ',')\n",
        "# Dataset will then be represented as a structure that contains two-dimensional data\n",
        "dataset = pd.DataFrame(dataset)\n",
        "# Print dataset and a new line\n",
        "print(dataset)\n",
        "print('\\n')\n",
        "\n",
        "# The review entries of the dataset is denoted by “X”, and the rating is denoted by “y”\n",
        "X = dataset.review\n",
        "y = dataset.rating\n",
        "\n",
        "# The data for X and y, will be split into the training and testing data\n",
        "# The training data will be used to extract features and to train to fit the model\n",
        "# The test size will be 0.25 or 25% and the random state can be set to any number, in this case 123\n",
        "X_train, X_test, y_train, y_test = train_test_split(\n",
        "    X, y, test_size=0.25, random_state=123)\n",
        "\n",
        "# The count vectorizer is used to compute the number of words in a given sample\n",
        "vec = CountVectorizer()\n",
        "# The fit transform is used by the training set to do both calculation and transformation\n",
        "X_train = vec.fit_transform(X_train)\n",
        "# Transforms test data\n",
        "X_test = vec.transform(X_test)\n",
        "\n",
        "# Random Forest Classifier is being utilized\n",
        "classifier = RandomForestClassifier(random_state=123)\n",
        "# Classifier fits to training data\n",
        "classifier.fit(X_train, y_train)\n",
        "# y_pred is the predicted class with the highest mean probability estimate across the decisin trees\n",
        "y_pred = classifier.predict(X_test)\n",
        "\n",
        "# Print algorithm name; classification report, which include precision, recall, and f1-score; and the accuracy score of the algorithm\n",
        "print('Algorithm Name: Random Forest Classification\\n')\n",
        "print(confusion_matrix(y_test, y_pred))\n",
        "print(classification_report(y_test, y_pred))\n",
        "print('Accuracy Score = ', accuracy_score(y_test, y_pred) * 100, '%', sep='')"
      ],
      "metadata": {
        "colab": {
          "base_uri": "https://localhost:8080/"
        },
        "id": "iJU8JWQhkqrw",
        "outputId": "b4bb1f8b-f56a-4961-8990-9a82a1282656"
      },
      "execution_count": null,
      "outputs": [
        {
          "output_type": "stream",
          "name": "stdout",
          "text": [
            "                                                 review  rating\n",
            "0     This case is just beautiful. I can't think of ...     1.0\n",
            "1     My husband purchased these because he likes mo...     1.0\n",
            "2     Very disappointed.  This item worked a time or...     0.0\n",
            "3     ...first of all, this Lightning cable does exa...     1.0\n",
            "4     Very bad, slow, flakey software. Very slow. I ...     0.0\n",
            "...                                                 ...     ...\n",
            "3995  I had this thing connected to my radio for qui...     0.0\n",
            "3996  This unique internet radio was easy to set up,...     1.0\n",
            "3997  we're pretty confident this is a bootlegged de...     0.0\n",
            "3998  Wish I could say that this keyboard works for ...     0.0\n",
            "3999  The unit simply will not allow us to install i...     0.0\n",
            "\n",
            "[4000 rows x 2 columns]\n",
            "\n",
            "\n",
            "Algorithm Name: Random Forest Classification\n",
            "\n",
            "[[449  61]\n",
            " [ 93 397]]\n",
            "              precision    recall  f1-score   support\n",
            "\n",
            "         0.0       0.83      0.88      0.85       510\n",
            "         1.0       0.87      0.81      0.84       490\n",
            "\n",
            "    accuracy                           0.85      1000\n",
            "   macro avg       0.85      0.85      0.85      1000\n",
            "weighted avg       0.85      0.85      0.85      1000\n",
            "\n",
            "Accuracy Score = 84.6%\n"
          ]
        }
      ]
    },
    {
      "cell_type": "code",
      "execution_count": null,
      "metadata": {
        "id": "7HqxlJANV0Lb"
      },
      "outputs": [],
      "source": [
        "import pandas as pd\n",
        "import numpy as np"
      ]
    },
    {
      "cell_type": "code",
      "source": [
        "fname = pd.read_csv('/content/dataset_elec_4000.csv')"
      ],
      "metadata": {
        "id": "tKZaBYiBWgt1"
      },
      "execution_count": null,
      "outputs": []
    },
    {
      "cell_type": "code",
      "source": [
        "fname.head()"
      ],
      "metadata": {
        "colab": {
          "base_uri": "https://localhost:8080/",
          "height": 206
        },
        "id": "I2Q4MaalWpt4",
        "outputId": "16d86dea-15a2-4072-bde0-663c2c4a7526"
      },
      "execution_count": null,
      "outputs": [
        {
          "output_type": "execute_result",
          "data": {
            "text/html": [
              "\n",
              "  <div id=\"df-7538616a-07e8-4669-bdc6-fe61a2894e6e\">\n",
              "    <div class=\"colab-df-container\">\n",
              "      <div>\n",
              "<style scoped>\n",
              "    .dataframe tbody tr th:only-of-type {\n",
              "        vertical-align: middle;\n",
              "    }\n",
              "\n",
              "    .dataframe tbody tr th {\n",
              "        vertical-align: top;\n",
              "    }\n",
              "\n",
              "    .dataframe thead th {\n",
              "        text-align: right;\n",
              "    }\n",
              "</style>\n",
              "<table border=\"1\" class=\"dataframe\">\n",
              "  <thead>\n",
              "    <tr style=\"text-align: right;\">\n",
              "      <th></th>\n",
              "      <th>review</th>\n",
              "      <th>rating</th>\n",
              "    </tr>\n",
              "  </thead>\n",
              "  <tbody>\n",
              "    <tr>\n",
              "      <th>0</th>\n",
              "      <td>This case is just beautiful. I can't think of ...</td>\n",
              "      <td>1.0</td>\n",
              "    </tr>\n",
              "    <tr>\n",
              "      <th>1</th>\n",
              "      <td>My husband purchased these because he likes mo...</td>\n",
              "      <td>1.0</td>\n",
              "    </tr>\n",
              "    <tr>\n",
              "      <th>2</th>\n",
              "      <td>Very disappointed.  This item worked a time or...</td>\n",
              "      <td>0.0</td>\n",
              "    </tr>\n",
              "    <tr>\n",
              "      <th>3</th>\n",
              "      <td>...first of all, this Lightning cable does exa...</td>\n",
              "      <td>1.0</td>\n",
              "    </tr>\n",
              "    <tr>\n",
              "      <th>4</th>\n",
              "      <td>Very bad, slow, flakey software. Very slow. I ...</td>\n",
              "      <td>0.0</td>\n",
              "    </tr>\n",
              "  </tbody>\n",
              "</table>\n",
              "</div>\n",
              "      <button class=\"colab-df-convert\" onclick=\"convertToInteractive('df-7538616a-07e8-4669-bdc6-fe61a2894e6e')\"\n",
              "              title=\"Convert this dataframe to an interactive table.\"\n",
              "              style=\"display:none;\">\n",
              "        \n",
              "  <svg xmlns=\"http://www.w3.org/2000/svg\" height=\"24px\"viewBox=\"0 0 24 24\"\n",
              "       width=\"24px\">\n",
              "    <path d=\"M0 0h24v24H0V0z\" fill=\"none\"/>\n",
              "    <path d=\"M18.56 5.44l.94 2.06.94-2.06 2.06-.94-2.06-.94-.94-2.06-.94 2.06-2.06.94zm-11 1L8.5 8.5l.94-2.06 2.06-.94-2.06-.94L8.5 2.5l-.94 2.06-2.06.94zm10 10l.94 2.06.94-2.06 2.06-.94-2.06-.94-.94-2.06-.94 2.06-2.06.94z\"/><path d=\"M17.41 7.96l-1.37-1.37c-.4-.4-.92-.59-1.43-.59-.52 0-1.04.2-1.43.59L10.3 9.45l-7.72 7.72c-.78.78-.78 2.05 0 2.83L4 21.41c.39.39.9.59 1.41.59.51 0 1.02-.2 1.41-.59l7.78-7.78 2.81-2.81c.8-.78.8-2.07 0-2.86zM5.41 20L4 18.59l7.72-7.72 1.47 1.35L5.41 20z\"/>\n",
              "  </svg>\n",
              "      </button>\n",
              "      \n",
              "  <style>\n",
              "    .colab-df-container {\n",
              "      display:flex;\n",
              "      flex-wrap:wrap;\n",
              "      gap: 12px;\n",
              "    }\n",
              "\n",
              "    .colab-df-convert {\n",
              "      background-color: #E8F0FE;\n",
              "      border: none;\n",
              "      border-radius: 50%;\n",
              "      cursor: pointer;\n",
              "      display: none;\n",
              "      fill: #1967D2;\n",
              "      height: 32px;\n",
              "      padding: 0 0 0 0;\n",
              "      width: 32px;\n",
              "    }\n",
              "\n",
              "    .colab-df-convert:hover {\n",
              "      background-color: #E2EBFA;\n",
              "      box-shadow: 0px 1px 2px rgba(60, 64, 67, 0.3), 0px 1px 3px 1px rgba(60, 64, 67, 0.15);\n",
              "      fill: #174EA6;\n",
              "    }\n",
              "\n",
              "    [theme=dark] .colab-df-convert {\n",
              "      background-color: #3B4455;\n",
              "      fill: #D2E3FC;\n",
              "    }\n",
              "\n",
              "    [theme=dark] .colab-df-convert:hover {\n",
              "      background-color: #434B5C;\n",
              "      box-shadow: 0px 1px 3px 1px rgba(0, 0, 0, 0.15);\n",
              "      filter: drop-shadow(0px 1px 2px rgba(0, 0, 0, 0.3));\n",
              "      fill: #FFFFFF;\n",
              "    }\n",
              "  </style>\n",
              "\n",
              "      <script>\n",
              "        const buttonEl =\n",
              "          document.querySelector('#df-7538616a-07e8-4669-bdc6-fe61a2894e6e button.colab-df-convert');\n",
              "        buttonEl.style.display =\n",
              "          google.colab.kernel.accessAllowed ? 'block' : 'none';\n",
              "\n",
              "        async function convertToInteractive(key) {\n",
              "          const element = document.querySelector('#df-7538616a-07e8-4669-bdc6-fe61a2894e6e');\n",
              "          const dataTable =\n",
              "            await google.colab.kernel.invokeFunction('convertToInteractive',\n",
              "                                                     [key], {});\n",
              "          if (!dataTable) return;\n",
              "\n",
              "          const docLinkHtml = 'Like what you see? Visit the ' +\n",
              "            '<a target=\"_blank\" href=https://colab.research.google.com/notebooks/data_table.ipynb>data table notebook</a>'\n",
              "            + ' to learn more about interactive tables.';\n",
              "          element.innerHTML = '';\n",
              "          dataTable['output_type'] = 'display_data';\n",
              "          await google.colab.output.renderOutput(dataTable, element);\n",
              "          const docLink = document.createElement('div');\n",
              "          docLink.innerHTML = docLinkHtml;\n",
              "          element.appendChild(docLink);\n",
              "        }\n",
              "      </script>\n",
              "    </div>\n",
              "  </div>\n",
              "  "
            ],
            "text/plain": [
              "                                              review  rating\n",
              "0  This case is just beautiful. I can't think of ...     1.0\n",
              "1  My husband purchased these because he likes mo...     1.0\n",
              "2  Very disappointed.  This item worked a time or...     0.0\n",
              "3  ...first of all, this Lightning cable does exa...     1.0\n",
              "4  Very bad, slow, flakey software. Very slow. I ...     0.0"
            ]
          },
          "metadata": {},
          "execution_count": 13
        }
      ]
    },
    {
      "cell_type": "code",
      "source": [
        "dataset = pd.DataFrame(dataset)\n",
        "print(dataset)"
      ],
      "metadata": {
        "colab": {
          "base_uri": "https://localhost:8080/"
        },
        "id": "hcgVz0NlWusG",
        "outputId": "64d70e83-c390-480d-e1e1-c3d0f835acbb"
      },
      "execution_count": null,
      "outputs": [
        {
          "output_type": "stream",
          "name": "stdout",
          "text": [
            "                                                 review  rating\n",
            "0     This case is just beautiful. I can't think of ...     1.0\n",
            "1     My husband purchased these because he likes mo...     1.0\n",
            "2     Very disappointed.  This item worked a time or...     0.0\n",
            "3     ...first of all, this Lightning cable does exa...     1.0\n",
            "4     Very bad, slow, flakey software. Very slow. I ...     0.0\n",
            "...                                                 ...     ...\n",
            "3995  I had this thing connected to my radio for qui...     0.0\n",
            "3996  This unique internet radio was easy to set up,...     1.0\n",
            "3997  we're pretty confident this is a bootlegged de...     0.0\n",
            "3998  Wish I could say that this keyboard works for ...     0.0\n",
            "3999  The unit simply will not allow us to install i...     0.0\n",
            "\n",
            "[4000 rows x 2 columns]\n"
          ]
        }
      ]
    },
    {
      "cell_type": "code",
      "source": [
        "X = dataset.review\n",
        "y = dataset.rating"
      ],
      "metadata": {
        "id": "U3JyWyG6XQcb"
      },
      "execution_count": null,
      "outputs": []
    },
    {
      "cell_type": "code",
      "source": [
        "from sklearn.model_selection import train_test_split\n",
        "X_train, X_test, y_train, y_test = train_test_split(X, y, test_size=0.25,random_state=100)"
      ],
      "metadata": {
        "id": "5_M-mzCjXaAS"
      },
      "execution_count": null,
      "outputs": []
    },
    {
      "cell_type": "code",
      "source": [
        "from sklearn.feature_extraction.text import CountVectorizer\n",
        "vec = CountVectorizer()\n",
        "X_train = vec.fit_transform(X_train)\n",
        "X_test = vec.transform(X_test)"
      ],
      "metadata": {
        "id": "C7UPOFI-XrNF"
      },
      "execution_count": null,
      "outputs": []
    },
    {
      "cell_type": "code",
      "source": [
        "from sklearn.ensemble import RandomForestClassifier\n",
        "classifier = RandomForestClassifier(random_state=123)\n",
        "classifier.fit(X_train, y_train)\n",
        "y_pred = classifier.predict(X_test)"
      ],
      "metadata": {
        "id": "HRQFR0lzXvoI"
      },
      "execution_count": null,
      "outputs": []
    },
    {
      "cell_type": "code",
      "source": [
        "from sklearn.metrics import classification_report, confusion_matrix, accuracy_score\n",
        "print('Algorithm Name: Random Forest Classification\\n')\n",
        "print(confusion_matrix(y_test, y_pred))\n",
        "print(classification_report(y_test, y_pred))\n",
        "print('Accuracy Score: ', accuracy_score(y_test, y_pred) * 100, '%', sep='')"
      ],
      "metadata": {
        "colab": {
          "base_uri": "https://localhost:8080/"
        },
        "id": "6K66axq_X1K5",
        "outputId": "d673c2ef-87ea-4d2e-b391-1ba7a2e1bbf6"
      },
      "execution_count": null,
      "outputs": [
        {
          "output_type": "stream",
          "name": "stdout",
          "text": [
            "Algorithm Name: Random Forest Classification\n",
            "\n",
            "[[449  61]\n",
            " [ 93 397]]\n",
            "              precision    recall  f1-score   support\n",
            "\n",
            "         0.0       0.83      0.88      0.85       510\n",
            "         1.0       0.87      0.81      0.84       490\n",
            "\n",
            "    accuracy                           0.85      1000\n",
            "   macro avg       0.85      0.85      0.85      1000\n",
            "weighted avg       0.85      0.85      0.85      1000\n",
            "\n",
            "Accuracy Score: 84.6%\n"
          ]
        }
      ]
    }
  ]
}